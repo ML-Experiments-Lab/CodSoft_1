{
 "cells": [
  {
   "cell_type": "code",
   "execution_count": 21,
   "id": "9e45e553-f66d-44fa-86cd-c39631e0e7f2",
   "metadata": {},
   "outputs": [],
   "source": [
    "import pandas as pd\n",
    "import numpy as np\n",
    "import matplotlib.pyplot as plt\n",
    "import seaborn as sns\n",
    "from sklearn.model_selection import train_test_split\n",
    "from sklearn.feature_selection import SelectKBest, mutual_info_classif\n",
    "from sklearn.preprocessing import StandardScaler, LabelEncoder\n",
    "from sklearn.linear_model import LogisticRegression\n",
    "from sklearn.ensemble import RandomForestClassifier\n",
    "from sklearn.svm import SVC\n",
    "from sklearn.tree import DecisionTreeClassifier\n",
    "from sklearn.neighbors import KNeighborsClassifier\n",
    "from sklearn.metrics import accuracy_score, confusion_matrix,classification_report\n",
    "import pickle"
   ]
  },
  {
   "cell_type": "code",
   "execution_count": 22,
   "id": "e7f6498e-4d36-4491-ba91-f73e27a60fe7",
   "metadata": {},
   "outputs": [],
   "source": [
    "df = pd.read_csv(\"C:\\\\Users\\\\91878\\\\Downloads\\\\Churn_Modelling.csv\")"
   ]
  },
  {
   "cell_type": "code",
   "execution_count": 23,
   "id": "f6980a90-a5e4-41f9-a7c4-0f8de3913345",
   "metadata": {},
   "outputs": [
    {
     "data": {
      "text/html": [
       "<div>\n",
       "<style scoped>\n",
       "    .dataframe tbody tr th:only-of-type {\n",
       "        vertical-align: middle;\n",
       "    }\n",
       "\n",
       "    .dataframe tbody tr th {\n",
       "        vertical-align: top;\n",
       "    }\n",
       "\n",
       "    .dataframe thead th {\n",
       "        text-align: right;\n",
       "    }\n",
       "</style>\n",
       "<table border=\"1\" class=\"dataframe\">\n",
       "  <thead>\n",
       "    <tr style=\"text-align: right;\">\n",
       "      <th></th>\n",
       "      <th>RowNumber</th>\n",
       "      <th>CustomerId</th>\n",
       "      <th>Surname</th>\n",
       "      <th>CreditScore</th>\n",
       "      <th>Geography</th>\n",
       "      <th>Gender</th>\n",
       "      <th>Age</th>\n",
       "      <th>Tenure</th>\n",
       "      <th>Balance</th>\n",
       "      <th>NumOfProducts</th>\n",
       "      <th>HasCrCard</th>\n",
       "      <th>IsActiveMember</th>\n",
       "      <th>EstimatedSalary</th>\n",
       "      <th>Exited</th>\n",
       "    </tr>\n",
       "  </thead>\n",
       "  <tbody>\n",
       "    <tr>\n",
       "      <th>0</th>\n",
       "      <td>1</td>\n",
       "      <td>15634602</td>\n",
       "      <td>Hargrave</td>\n",
       "      <td>619</td>\n",
       "      <td>France</td>\n",
       "      <td>Female</td>\n",
       "      <td>42</td>\n",
       "      <td>2</td>\n",
       "      <td>0.00</td>\n",
       "      <td>1</td>\n",
       "      <td>1</td>\n",
       "      <td>1</td>\n",
       "      <td>101348.88</td>\n",
       "      <td>1</td>\n",
       "    </tr>\n",
       "    <tr>\n",
       "      <th>1</th>\n",
       "      <td>2</td>\n",
       "      <td>15647311</td>\n",
       "      <td>Hill</td>\n",
       "      <td>608</td>\n",
       "      <td>Spain</td>\n",
       "      <td>Female</td>\n",
       "      <td>41</td>\n",
       "      <td>1</td>\n",
       "      <td>83807.86</td>\n",
       "      <td>1</td>\n",
       "      <td>0</td>\n",
       "      <td>1</td>\n",
       "      <td>112542.58</td>\n",
       "      <td>0</td>\n",
       "    </tr>\n",
       "    <tr>\n",
       "      <th>2</th>\n",
       "      <td>3</td>\n",
       "      <td>15619304</td>\n",
       "      <td>Onio</td>\n",
       "      <td>502</td>\n",
       "      <td>France</td>\n",
       "      <td>Female</td>\n",
       "      <td>42</td>\n",
       "      <td>8</td>\n",
       "      <td>159660.80</td>\n",
       "      <td>3</td>\n",
       "      <td>1</td>\n",
       "      <td>0</td>\n",
       "      <td>113931.57</td>\n",
       "      <td>1</td>\n",
       "    </tr>\n",
       "    <tr>\n",
       "      <th>3</th>\n",
       "      <td>4</td>\n",
       "      <td>15701354</td>\n",
       "      <td>Boni</td>\n",
       "      <td>699</td>\n",
       "      <td>France</td>\n",
       "      <td>Female</td>\n",
       "      <td>39</td>\n",
       "      <td>1</td>\n",
       "      <td>0.00</td>\n",
       "      <td>2</td>\n",
       "      <td>0</td>\n",
       "      <td>0</td>\n",
       "      <td>93826.63</td>\n",
       "      <td>0</td>\n",
       "    </tr>\n",
       "    <tr>\n",
       "      <th>4</th>\n",
       "      <td>5</td>\n",
       "      <td>15737888</td>\n",
       "      <td>Mitchell</td>\n",
       "      <td>850</td>\n",
       "      <td>Spain</td>\n",
       "      <td>Female</td>\n",
       "      <td>43</td>\n",
       "      <td>2</td>\n",
       "      <td>125510.82</td>\n",
       "      <td>1</td>\n",
       "      <td>1</td>\n",
       "      <td>1</td>\n",
       "      <td>79084.10</td>\n",
       "      <td>0</td>\n",
       "    </tr>\n",
       "  </tbody>\n",
       "</table>\n",
       "</div>"
      ],
      "text/plain": [
       "   RowNumber  CustomerId   Surname  CreditScore Geography  Gender  Age  \\\n",
       "0          1    15634602  Hargrave          619    France  Female   42   \n",
       "1          2    15647311      Hill          608     Spain  Female   41   \n",
       "2          3    15619304      Onio          502    France  Female   42   \n",
       "3          4    15701354      Boni          699    France  Female   39   \n",
       "4          5    15737888  Mitchell          850     Spain  Female   43   \n",
       "\n",
       "   Tenure    Balance  NumOfProducts  HasCrCard  IsActiveMember  \\\n",
       "0       2       0.00              1          1               1   \n",
       "1       1   83807.86              1          0               1   \n",
       "2       8  159660.80              3          1               0   \n",
       "3       1       0.00              2          0               0   \n",
       "4       2  125510.82              1          1               1   \n",
       "\n",
       "   EstimatedSalary  Exited  \n",
       "0        101348.88       1  \n",
       "1        112542.58       0  \n",
       "2        113931.57       1  \n",
       "3         93826.63       0  \n",
       "4         79084.10       0  "
      ]
     },
     "execution_count": 23,
     "metadata": {},
     "output_type": "execute_result"
    }
   ],
   "source": [
    "df.head()"
   ]
  },
  {
   "cell_type": "code",
   "execution_count": 24,
   "id": "566eae19-c7e8-4254-b81b-c5c6f753ed24",
   "metadata": {},
   "outputs": [
    {
     "name": "stdout",
     "output_type": "stream",
     "text": [
      "<class 'pandas.core.frame.DataFrame'>\n",
      "RangeIndex: 10000 entries, 0 to 9999\n",
      "Data columns (total 14 columns):\n",
      " #   Column           Non-Null Count  Dtype  \n",
      "---  ------           --------------  -----  \n",
      " 0   RowNumber        10000 non-null  int64  \n",
      " 1   CustomerId       10000 non-null  int64  \n",
      " 2   Surname          10000 non-null  object \n",
      " 3   CreditScore      10000 non-null  int64  \n",
      " 4   Geography        10000 non-null  object \n",
      " 5   Gender           10000 non-null  object \n",
      " 6   Age              10000 non-null  int64  \n",
      " 7   Tenure           10000 non-null  int64  \n",
      " 8   Balance          10000 non-null  float64\n",
      " 9   NumOfProducts    10000 non-null  int64  \n",
      " 10  HasCrCard        10000 non-null  int64  \n",
      " 11  IsActiveMember   10000 non-null  int64  \n",
      " 12  EstimatedSalary  10000 non-null  float64\n",
      " 13  Exited           10000 non-null  int64  \n",
      "dtypes: float64(2), int64(9), object(3)\n",
      "memory usage: 1.1+ MB\n"
     ]
    }
   ],
   "source": [
    "# Explore data types\n",
    "df.info()"
   ]
  },
  {
   "cell_type": "code",
   "execution_count": 25,
   "id": "088879b2-70fc-4413-8530-2358f066105a",
   "metadata": {},
   "outputs": [
    {
     "data": {
      "text/plain": [
       "RowNumber          0\n",
       "CustomerId         0\n",
       "Surname            0\n",
       "CreditScore        0\n",
       "Geography          0\n",
       "Gender             0\n",
       "Age                0\n",
       "Tenure             0\n",
       "Balance            0\n",
       "NumOfProducts      0\n",
       "HasCrCard          0\n",
       "IsActiveMember     0\n",
       "EstimatedSalary    0\n",
       "Exited             0\n",
       "dtype: int64"
      ]
     },
     "execution_count": 25,
     "metadata": {},
     "output_type": "execute_result"
    }
   ],
   "source": [
    "# Check for missing values\n",
    "df.isnull().sum()"
   ]
  },
  {
   "cell_type": "code",
   "execution_count": 26,
   "id": "4aa7afde-dc01-4f1f-9acc-f04ac7bfcca0",
   "metadata": {},
   "outputs": [
    {
     "data": {
      "text/plain": [
       "Exited\n",
       "0    7963\n",
       "1    2037\n",
       "Name: count, dtype: int64"
      ]
     },
     "execution_count": 26,
     "metadata": {},
     "output_type": "execute_result"
    }
   ],
   "source": [
    "df['Exited'].value_counts()   "
   ]
  },
  {
   "cell_type": "code",
   "execution_count": 27,
   "id": "58615bd9-ea9f-4e21-b6cd-4d6d6edddc15",
   "metadata": {},
   "outputs": [
    {
     "data": {
      "text/plain": [
       "['Surname', 'Geography', 'Gender']"
      ]
     },
     "execution_count": 27,
     "metadata": {},
     "output_type": "execute_result"
    }
   ],
   "source": [
    "categorical_columns = df.select_dtypes(include=['object', 'category']).columns.tolist()\n",
    "categorical_columns"
   ]
  },
  {
   "cell_type": "code",
   "execution_count": 28,
   "id": "8c0ca308-c74c-4032-9fe0-0870613e0b92",
   "metadata": {},
   "outputs": [],
   "source": [
    "# Encoding categorical features\n",
    "label_encoder = LabelEncoder()\n",
    "df['Gender'] = label_encoder.fit_transform(df['Gender'])  # Male=1, Female=0\n",
    "df['Geography'] = label_encoder.fit_transform(df['Geography']) "
   ]
  },
  {
   "cell_type": "code",
   "execution_count": 29,
   "id": "83ab8640-22d8-433a-aa17-92c210c303f5",
   "metadata": {},
   "outputs": [],
   "source": [
    "# Selecting features and target\n",
    "x = df.drop(columns=['Exited', 'Surname', 'CustomerId'])\n",
    "y = df['Exited']"
   ]
  },
  {
   "cell_type": "code",
   "execution_count": 30,
   "id": "e538966f-e107-4653-83c0-a78160f63046",
   "metadata": {},
   "outputs": [
    {
     "name": "stdout",
     "output_type": "stream",
     "text": [
      "Selected features: Index(['CreditScore', 'Geography', 'Gender', 'Age', 'Balance', 'NumOfProducts',\n",
      "       'IsActiveMember'],\n",
      "      dtype='object')\n"
     ]
    }
   ],
   "source": [
    "# Use SelectKBest to select top 5 best features\n",
    "k = 7  # Select top 7 features\n",
    "selector = SelectKBest(score_func=mutual_info_classif, k=k)\n",
    "x_selected = selector.fit_transform(x, y)\n",
    "\n",
    "mask = selector.get_support()        # Get the boolean mask of selected features\n",
    "selected_features = x.columns[mask]       # Get the selected feature names\n",
    "print(\"Selected features:\", selected_features)      # Print the selected features"
   ]
  },
  {
   "cell_type": "code",
   "execution_count": 31,
   "id": "a8b5b966-9719-4602-a60e-4b50d10f88b9",
   "metadata": {},
   "outputs": [],
   "source": [
    "outliers = []\n",
    "for feature in df[selected_features].select_dtypes(include=np.number).columns:\n",
    "    Q1 = df[feature].quantile(0.25)\n",
    "    Q3 = df[feature].quantile(0.75)\n",
    "    IQR = Q3 - Q1\n",
    "    lower_bound = Q1 - (1.5 * IQR)\n",
    "    upper_bound = Q3 + (1.5 * IQR)\n",
    "    # Capping and flooring outliers\n",
    "    df[feature] = np.where(df[feature] < lower_bound, lower_bound, df[feature])\n",
    "    df[feature] = np.where(df[feature] > upper_bound, upper_bound, df[feature])"
   ]
  },
  {
   "cell_type": "code",
   "execution_count": 32,
   "id": "a0d36520-7974-4407-a739-c2c6c4301b10",
   "metadata": {},
   "outputs": [
    {
     "name": "stdout",
     "output_type": "stream",
     "text": [
      "(8000, 7) (2000, 7) (10000, 7)\n",
      "(8000,) (2000,) (10000,)\n"
     ]
    }
   ],
   "source": [
    "x_train, x_test, y_train, y_test = train_test_split(x_selected, y, test_size=0.2, random_state=42)      # splitting the data into training data and test data\n",
    "print(x_train.shape, x_test.shape, x_selected.shape)\n",
    "print(y_train.shape, y_test.shape, y.shape)"
   ]
  },
  {
   "cell_type": "code",
   "execution_count": 33,
   "id": "c9c65835-830b-4d77-b66b-d87528fabfa6",
   "metadata": {},
   "outputs": [],
   "source": [
    "scaler = StandardScaler()\n",
    "x_train_scaled = scaler.fit_transform(x_train)\n",
    "x_test_scaled = scaler.transform(x_test)"
   ]
  },
  {
   "cell_type": "markdown",
   "id": "b588aeb4-6ba7-4b93-957c-f94c6cf5b78c",
   "metadata": {},
   "source": [
    "## 1. Logistic Regression"
   ]
  },
  {
   "cell_type": "code",
   "execution_count": 34,
   "id": "9e5cb8dd-84b6-488a-bafe-cc34decb60d1",
   "metadata": {},
   "outputs": [
    {
     "name": "stdout",
     "output_type": "stream",
     "text": [
      "Accuracy on training data =  0.806625\n",
      "Classification Report: \n",
      "               precision    recall  f1-score   support\n",
      "\n",
      "           0       0.82      0.97      0.89      6356\n",
      "           1       0.60      0.18      0.28      1644\n",
      "\n",
      "    accuracy                           0.81      8000\n",
      "   macro avg       0.71      0.57      0.58      8000\n",
      "weighted avg       0.77      0.81      0.76      8000\n",
      "\n",
      "Confusion Matrix: \n",
      " [[6157  199]\n",
      " [1348  296]]\n",
      "\n",
      "\n",
      "Accuracy on testing data =  0.816\n",
      "Classification Report: \n",
      "               precision    recall  f1-score   support\n",
      "\n",
      "           0       0.83      0.97      0.89      1607\n",
      "           1       0.61      0.18      0.28       393\n",
      "\n",
      "    accuracy                           0.82      2000\n",
      "   macro avg       0.72      0.58      0.59      2000\n",
      "weighted avg       0.79      0.82      0.77      2000\n",
      "\n",
      "Confusion Matrix: \n",
      " [[1560   47]\n",
      " [ 321   72]]\n"
     ]
    }
   ],
   "source": [
    "model = LogisticRegression(random_state=42)\n",
    "model.fit(x_train_scaled, y_train)\n",
    "\n",
    "y_train_prediction = model.predict(x_train_scaled)\n",
    "training_data_accuracy = accuracy_score(y_train, y_train_prediction)\n",
    "print(\"Accuracy on training data = \", training_data_accuracy)\n",
    "print(\"Classification Report: \\n\", classification_report(y_train, y_train_prediction))\n",
    "print(\"Confusion Matrix: \\n\", confusion_matrix(y_train, y_train_prediction))\n",
    "\n",
    "y_test_pred_logistic = model.predict(x_test_scaled)\n",
    "testing_data_accuracy = accuracy_score(y_test, y_test_pred_logistic)\n",
    "print(\"\\n\\nAccuracy on testing data = \", testing_data_accuracy)\n",
    "print(\"Classification Report: \\n\", classification_report(y_test, y_test_pred_logistic))\n",
    "print(\"Confusion Matrix: \\n\", confusion_matrix(y_test, y_test_pred_logistic))"
   ]
  },
  {
   "cell_type": "markdown",
   "id": "b9fc176d-c5f7-4f57-b33d-61071a6976c7",
   "metadata": {},
   "source": [
    "## 2. Random Forest"
   ]
  },
  {
   "cell_type": "code",
   "execution_count": 35,
   "id": "d84b690f-f447-490b-bc58-d50b6df7769a",
   "metadata": {},
   "outputs": [
    {
     "name": "stdout",
     "output_type": "stream",
     "text": [
      "Accuracy on training data =  0.999625\n",
      "Classification Report: \n",
      "               precision    recall  f1-score   support\n",
      "\n",
      "           0       1.00      1.00      1.00      6356\n",
      "           1       1.00      1.00      1.00      1644\n",
      "\n",
      "    accuracy                           1.00      8000\n",
      "   macro avg       1.00      1.00      1.00      8000\n",
      "weighted avg       1.00      1.00      1.00      8000\n",
      "\n",
      "Confusion Matrix: \n",
      " [[6356    0]\n",
      " [   3 1641]]\n",
      "\n",
      "\n",
      "Accuracy on testing data =  0.8615\n",
      "Classification Report: \n",
      "               precision    recall  f1-score   support\n",
      "\n",
      "           0       0.88      0.95      0.92      1607\n",
      "           1       0.71      0.49      0.58       393\n",
      "\n",
      "    accuracy                           0.86      2000\n",
      "   macro avg       0.80      0.72      0.75      2000\n",
      "weighted avg       0.85      0.86      0.85      2000\n",
      "\n",
      "Confusion Matrix: \n",
      " [[1530   77]\n",
      " [ 200  193]]\n"
     ]
    }
   ],
   "source": [
    "rf = RandomForestClassifier(n_estimators=100, random_state=42)\n",
    "rf.fit(x_train_scaled, y_train)\n",
    "\n",
    "y_train_prediction = rf.predict(x_train_scaled)\n",
    "training_data_accuracy = accuracy_score(y_train, y_train_prediction)\n",
    "print(\"Accuracy on training data = \", training_data_accuracy)\n",
    "print(\"Classification Report: \\n\", classification_report(y_train, y_train_prediction))\n",
    "print(\"Confusion Matrix: \\n\", confusion_matrix(y_train, y_train_prediction))\n",
    "\n",
    "y_test_pred_rf = rf.predict(x_test_scaled)\n",
    "testing_data_accuracy = accuracy_score(y_test, y_test_pred_rf)\n",
    "print(\"\\n\\nAccuracy on testing data = \", testing_data_accuracy)\n",
    "print(\"Classification Report: \\n\", classification_report(y_test, y_test_pred_rf))\n",
    "print(\"Confusion Matrix: \\n\", confusion_matrix(y_test, y_test_pred_rf))"
   ]
  },
  {
   "cell_type": "markdown",
   "id": "8b752df0-8748-4cf3-97cd-c312031d54b6",
   "metadata": {},
   "source": [
    "## 3. Support Vector Machine"
   ]
  },
  {
   "cell_type": "code",
   "execution_count": 36,
   "id": "0d01164c-9524-4de5-a320-787c0019d94a",
   "metadata": {},
   "outputs": [
    {
     "name": "stdout",
     "output_type": "stream",
     "text": [
      "Accuracy on training data =  0.86025\n",
      "Classification Report: \n",
      "               precision    recall  f1-score   support\n",
      "\n",
      "           0       0.86      0.98      0.92      6356\n",
      "           1       0.85      0.39      0.53      1644\n",
      "\n",
      "    accuracy                           0.86      8000\n",
      "   macro avg       0.85      0.69      0.73      8000\n",
      "weighted avg       0.86      0.86      0.84      8000\n",
      "\n",
      "Confusion Matrix: \n",
      " [[6239  117]\n",
      " [1001  643]]\n",
      "Accuracy on testing data =  0.8615\n",
      "Classification Report: \n",
      "               precision    recall  f1-score   support\n",
      "\n",
      "           0       0.87      0.98      0.92      1607\n",
      "           1       0.81      0.39      0.52       393\n",
      "\n",
      "    accuracy                           0.86      2000\n",
      "   macro avg       0.84      0.68      0.72      2000\n",
      "weighted avg       0.86      0.86      0.84      2000\n",
      "\n",
      "Confusion Matrix: \n",
      " [[1571   36]\n",
      " [ 241  152]]\n"
     ]
    }
   ],
   "source": [
    "svc = SVC(random_state=42)\n",
    "svc.fit(x_train_scaled, y_train)\n",
    "\n",
    "y_train_prediction = svc.predict(x_train_scaled)\n",
    "training_data_accuracy = accuracy_score(y_train, y_train_prediction)\n",
    "print(\"Accuracy on training data = \", training_data_accuracy)\n",
    "print(\"Classification Report: \\n\", classification_report(y_train, y_train_prediction))\n",
    "print(\"Confusion Matrix: \\n\", confusion_matrix(y_train, y_train_prediction))\n",
    "\n",
    "y_test_pred_svc = svc.predict(x_test_scaled)\n",
    "testing_data_accuracy = accuracy_score(y_test, y_test_pred_svc)\n",
    "print(\"Accuracy on testing data = \", testing_data_accuracy)\n",
    "print(\"Classification Report: \\n\", classification_report(y_test, y_test_pred_svc))\n",
    "print(\"Confusion Matrix: \\n\", confusion_matrix(y_test, y_test_pred_svc))"
   ]
  },
  {
   "cell_type": "markdown",
   "id": "50878fff-e0dc-4cb2-af87-0d092e6ba0d9",
   "metadata": {},
   "source": [
    "## 4. Decision Tree"
   ]
  },
  {
   "cell_type": "code",
   "execution_count": 37,
   "id": "57c94334-41b6-47e3-ab5c-99575243deba",
   "metadata": {},
   "outputs": [
    {
     "name": "stdout",
     "output_type": "stream",
     "text": [
      "Accuracy on training data =  0.99975\n",
      "Classification Report: \n",
      "               precision    recall  f1-score   support\n",
      "\n",
      "           0       1.00      1.00      1.00      6356\n",
      "           1       1.00      1.00      1.00      1644\n",
      "\n",
      "    accuracy                           1.00      8000\n",
      "   macro avg       1.00      1.00      1.00      8000\n",
      "weighted avg       1.00      1.00      1.00      8000\n",
      "\n",
      "Confusion Matrix: \n",
      " [[6356    0]\n",
      " [   2 1642]]\n",
      "\n",
      "\n",
      "Accuracy on testing data =  0.8105\n",
      "Classification Report: \n",
      "               precision    recall  f1-score   support\n",
      "\n",
      "           0       0.89      0.88      0.88      1607\n",
      "           1       0.52      0.54      0.53       393\n",
      "\n",
      "    accuracy                           0.81      2000\n",
      "   macro avg       0.70      0.71      0.70      2000\n",
      "weighted avg       0.81      0.81      0.81      2000\n",
      "\n",
      "Confusion Matrix: \n",
      " [[1410  197]\n",
      " [ 182  211]]\n"
     ]
    }
   ],
   "source": [
    "decision_tree = DecisionTreeClassifier(random_state=42)\n",
    "decision_tree.fit(x_train_scaled, y_train)\n",
    "\n",
    "y_train_prediction = decision_tree.predict(x_train_scaled)\n",
    "training_data_accuracy = accuracy_score(y_train, y_train_prediction)\n",
    "print(\"Accuracy on training data = \", training_data_accuracy)\n",
    "print(\"Classification Report: \\n\", classification_report(y_train, y_train_prediction))\n",
    "print(\"Confusion Matrix: \\n\", confusion_matrix(y_train, y_train_prediction))\n",
    "\n",
    "y_test_pred_dt = decision_tree.predict(x_test_scaled)\n",
    "testing_data_accuracy = accuracy_score(y_test, y_test_pred_dt)\n",
    "print(\"\\n\\nAccuracy on testing data = \", testing_data_accuracy)\n",
    "print(\"Classification Report: \\n\", classification_report(y_test, y_test_pred_dt))\n",
    "print(\"Confusion Matrix: \\n\", confusion_matrix(y_test, y_test_pred_dt))"
   ]
  },
  {
   "cell_type": "markdown",
   "id": "6e75ddf5-befb-43fe-ad98-523c8d746834",
   "metadata": {},
   "source": [
    "## 5. K-Nearest Neighbors"
   ]
  },
  {
   "cell_type": "code",
   "execution_count": 38,
   "id": "d9f36fad-c978-4cdb-9b64-e0e321206fc2",
   "metadata": {},
   "outputs": [
    {
     "name": "stdout",
     "output_type": "stream",
     "text": [
      "Accuracy on training data =  0.885625\n",
      "Classification Report: \n",
      "               precision    recall  f1-score   support\n",
      "\n",
      "           0       0.90      0.97      0.93      6356\n",
      "           1       0.81      0.58      0.67      1644\n",
      "\n",
      "    accuracy                           0.89      8000\n",
      "   macro avg       0.85      0.77      0.80      8000\n",
      "weighted avg       0.88      0.89      0.88      8000\n",
      "\n",
      "Confusion Matrix: \n",
      " [[6135  221]\n",
      " [ 694  950]]\n",
      "\n",
      "\n",
      "Accuracy on testing data =  0.839\n",
      "Classification Report: \n",
      "               precision    recall  f1-score   support\n",
      "\n",
      "           0       0.87      0.93      0.90      1607\n",
      "           1       0.63      0.45      0.52       393\n",
      "\n",
      "    accuracy                           0.84      2000\n",
      "   macro avg       0.75      0.69      0.71      2000\n",
      "weighted avg       0.83      0.84      0.83      2000\n",
      "\n",
      "Confusion Matrix: \n",
      " [[1501  106]\n",
      " [ 216  177]]\n"
     ]
    }
   ],
   "source": [
    "knn = KNeighborsClassifier(n_neighbors=5)\n",
    "knn.fit(x_train_scaled, y_train)\n",
    "\n",
    "y_train_prediction = knn.predict(x_train_scaled)\n",
    "training_data_accuracy = accuracy_score(y_train, y_train_prediction)\n",
    "print(\"Accuracy on training data = \", training_data_accuracy)\n",
    "print(\"Classification Report: \\n\", classification_report(y_train, y_train_prediction))\n",
    "print(\"Confusion Matrix: \\n\", confusion_matrix(y_train, y_train_prediction))\n",
    "\n",
    "y_test_pred_knn = knn.predict(x_test_scaled)\n",
    "testing_data_accuracy = accuracy_score(y_test, y_test_pred_knn)\n",
    "print(\"\\n\\nAccuracy on testing data = \", testing_data_accuracy)\n",
    "print(\"Classification Report: \\n\", classification_report(y_test, y_test_pred_knn))\n",
    "print(\"Confusion Matrix: \\n\", confusion_matrix(y_test, y_test_pred_knn))"
   ]
  },
  {
   "cell_type": "code",
   "execution_count": 39,
   "id": "ad19d775-22b5-4746-8efb-53fa23dd5bed",
   "metadata": {},
   "outputs": [
    {
     "data": {
      "image/png": "[encoded data removed]",
      "text/plain": [
       "<Figure size 640x480 with 1 Axes>"
      ]
     },
     "metadata": {},
     "output_type": "display_data"
    }
   ],
   "source": [
    "# Final comparison of the model accuracies\n",
    "models = ['SVM', 'Random Forest', 'K-NN', 'Decision Tree', 'Logistic Regression']\n",
    "accuracies = [\n",
    "    accuracy_score(y_test, y_test_pred_svc),\n",
    "    accuracy_score(y_test, y_test_pred_rf),\n",
    "    accuracy_score(y_test, y_test_pred_knn),\n",
    "    accuracy_score(y_test, y_test_pred_dt),\n",
    "    accuracy_score(y_test, y_test_pred_logistic)\n",
    "]\n",
    "\n",
    "plt.bar(models, accuracies, color=['blue', 'green', 'red', 'purple', 'orange'])\n",
    "plt.ylabel('Accuracy')\n",
    "plt.title('Model Accuracy Comparison')\n",
    "plt.show()"
   ]
  },
  {
   "cell_type": "code",
   "execution_count": 40,
   "id": "4ef0eb96-e4a6-4e90-81cc-0e05b9af3cea",
   "metadata": {},
   "outputs": [],
   "source": [
    "with open('customer_churn_prediction.pickle', 'wb') as file:\n",
    "     pickle.dump(rf, file)"
   ]
  }
 ],
 "metadata": {
  "kernelspec": {
   "display_name": "Python 3 (ipykernel)",
   "language": "python",
   "name": "python3"
  },
  "language_info": {
   "codemirror_mode": {
    "name": "ipython",
    "version": 3
   },
   "file_extension": ".py",
   "mimetype": "text/x-python",
   "name": "python",
   "nbconvert_exporter": "python",
   "pygments_lexer": "ipython3",
   "version": "3.12.4"
  }
 },
 "nbformat": 4,
 "nbformat_minor": 5
}
